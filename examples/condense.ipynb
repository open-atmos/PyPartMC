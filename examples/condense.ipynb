{
 "cells": [
  {
   "cell_type": "markdown",
   "id": "ff0bd010",
   "metadata": {},
   "source": [
    "[![nbviewer](https://raw.githubusercontent.com/jupyter/design/master/logos/Badges/nbviewer_badge.svg)](https://nbviewer.jupyter.org/github/open-atmos/PyPartMC-examples/blob/main/notebooks/condense.ipynb)   \n",
    "[![Open In Colab](https://colab.research.google.com/assets/colab-badge.svg)](https://colab.research.google.com/github/open-atmos/PyPartMC-examples/blob/main/notebooks/condense.ipynb)    \n",
    "[![Binder](https://mybinder.org/badge_logo.svg)](https://mybinder.org/v2/gh/open-atmos/PyPartMC-examples.git/main?urlpath=lab/tree/notebooks/condense.ipynb)"
   ]
  },
  {
   "cell_type": "code",
   "execution_count": 1,
   "id": "159edeb4",
   "metadata": {},
   "outputs": [],
   "source": [
    "# This file is a part of PyPartMC licensed under the GNU General Public License v3\n",
    "# Copyright (C) 2022 University of Illinois Urbana-Champaign\n",
    "# Based on (GPL v2 code): https://github.com/compdyn/partmc/tree/master/test/condense\n",
    "# Authors:\n",
    "#  - https://github.com/compdyn/partmc/graphs/contributors\n",
    "#  - https://github.com/open-atmos/PyPartMC/graphs/contributors"
   ]
  },
  {
   "cell_type": "code",
   "execution_count": 2,
   "id": "4f8359c2",
   "metadata": {},
   "outputs": [],
   "source": [
    "import sys\n",
    "if 'google.colab' in sys.modules:\n",
    "    !pip --verbose install PyPartMC"
   ]
  },
  {
   "cell_type": "code",
   "execution_count": 3,
   "id": "b494ea6e",
   "metadata": {},
   "outputs": [],
   "source": [
    "import PyPartMC as ppmc\n",
    "from PyPartMC import si"
   ]
  },
  {
   "cell_type": "code",
   "execution_count": 4,
   "id": "df8d1a84",
   "metadata": {},
   "outputs": [],
   "source": [
    "gas_data = ppmc.GasData(\n",
    "    (\"H2SO4\", \"HNO3\", \"HCl\", \"NH3\", \"NO\", \"NO2\")\n",
    ")"
   ]
  },
  {
   "cell_type": "code",
   "execution_count": 5,
   "id": "a2d7bad8",
   "metadata": {},
   "outputs": [],
   "source": [
    "env_state = ppmc.EnvState({\n",
    "    \"rel_humidity\": 0.95,\n",
    "    \"latitude\": 0,\n",
    "    \"longitude\": 0,\n",
    "    \"altitude\": 0 * si.m,\n",
    "    \"start_time\": 81000 * si.s,\n",
    "    \"start_day\": 200\n",
    "})"
   ]
  },
  {
   "cell_type": "code",
   "execution_count": 6,
   "id": "815283a0",
   "metadata": {},
   "outputs": [],
   "source": [
    "aero_data = ppmc.AeroData((\n",
    "    #         density  ions in soln (1) molecular weight    kappa (1)\n",
    "    #         |                     |   |                   |\n",
    "    {\"SO4\":  [1800 * si.kg/si.m**3, 1,  96.0 * si.g/si.mol, 0.00]},\n",
    "    {\"NO3\":  [1800 * si.kg/si.m**3, 1,  62.0 * si.g/si.mol, 0.00]},\n",
    "    {\"Cl\":   [2200 * si.kg/si.m**3, 1,  35.5 * si.g/si.mol, 0.00]},\n",
    "    {\"NH4\":  [1800 * si.kg/si.m**3, 1,  18.0 * si.g/si.mol, 0.00]},\n",
    "    {\"MSA\":  [1800 * si.kg/si.m**3, 0,  95.0 * si.g/si.mol, 0.53]},\n",
    "    {\"ARO1\": [1400 * si.kg/si.m**3, 0, 150.0 * si.g/si.mol, 0.10]},\n",
    "    {\"ARO2\": [1400 * si.kg/si.m**3, 0, 150.0 * si.g/si.mol, 0.10]},\n",
    "    {\"ALK1\": [1400 * si.kg/si.m**3, 0, 140.0 * si.g/si.mol, 0.10]},\n",
    "    {\"OLE1\": [1400 * si.kg/si.m**3, 0, 140.0 * si.g/si.mol, 0.10]},\n",
    "    {\"API1\": [1400 * si.kg/si.m**3, 0, 184.0 * si.g/si.mol, 0.10]},\n",
    "    {\"API2\": [1400 * si.kg/si.m**3, 0, 184.0 * si.g/si.mol, 0.10]},\n",
    "    {\"LIM1\": [1400 * si.kg/si.m**3, 0, 200.0 * si.g/si.mol, 0.10]},\n",
    "    {\"LIM2\": [1400 * si.kg/si.m**3, 0, 200.0 * si.g/si.mol, 0.10]},\n",
    "    {\"CO3\":  [2600 * si.kg/si.m**3, 1,  60.0 * si.g/si.mol, 0.00]},\n",
    "    {\"Na\":   [2200 * si.kg/si.m**3, 1,  23.0 * si.g/si.mol, 0.00]},\n",
    "    {\"Ca\":   [2600 * si.kg/si.m**3, 1,  40.0 * si.g/si.mol, 0.00]},\n",
    "    {\"OIN\":  [2600 * si.kg/si.m**3, 0,   1.0 * si.g/si.mol, 0.10]},\n",
    "    {\"OC\":   [1400 * si.kg/si.m**3, 0,   1.0 * si.g/si.mol, 0.10]},\n",
    "    {\"BC\":   [1800 * si.kg/si.m**3, 0,   1.0 * si.g/si.mol, 0.00]},\n",
    "    {\"H2O\":  [1000 * si.kg/si.m**3, 0,  18.0 * si.g/si.mol, 0.00]}\n",
    "))"
   ]
  },
  {
   "cell_type": "code",
   "execution_count": 7,
   "id": "2e3b4ae6",
   "metadata": {},
   "outputs": [],
   "source": [
    "N_PART = 44\n",
    "aero_state = ppmc.AeroState(N_PART, aero_data)"
   ]
  },
  {
   "cell_type": "code",
   "execution_count": 8,
   "id": "eedd8346",
   "metadata": {},
   "outputs": [],
   "source": [
    "gas_state = ppmc.GasState(ppmc.GasData(('SO2',)))"
   ]
  },
  {
   "cell_type": "code",
   "execution_count": 9,
   "id": "58706963",
   "metadata": {},
   "outputs": [],
   "source": [
    "times = [0 * si.s, 1200 * si.s]\n",
    "null_gas = [{\"time\": [0 * si.s]}, {\"rate\": [1 / si.s]}]\n",
    "null_aero = [\n",
    "    {\"time\": [0 * si.s]},\n",
    "    {\"rate\": [0 / si.s]},\n",
    "    {\"dist\": {}}\n",
    "]\n",
    "\n",
    "scenario = ppmc.Scenario(gas_data, aero_data, {\n",
    "    \"temp_profile\": [\n",
    "        {\"time\": times},\n",
    "        {\"temp\": [290 * si.K, 280 * si.K]}\n",
    "    ],\n",
    "    \"pressure_profile\": [\n",
    "        {\"time\": times},\n",
    "        {\"pressure\": [1000 * si.hPa, 800 * si.hPa]}\n",
    "    ],\n",
    "    \"height_profile\": [\n",
    "        {\"time\": times},\n",
    "        {\"height\": [200 * si.m, 200 * si.m]}\n",
    "    ],\n",
    "    \"gas_emissions\": null_gas,\n",
    "    \"gas_background\": null_gas,\n",
    "    \"aero_emissions\": null_aero,\n",
    "    \"aero_background\": null_aero,\n",
    "    \"loss_function\": \"none\"\n",
    "})"
   ]
  },
  {
   "cell_type": "code",
   "execution_count": 13,
   "id": "d8d9c8fd",
   "metadata": {},
   "outputs": [],
   "source": [
    "run_part_opt = ppmc.RunPartOpt({\n",
    "    \"do_coagulation\": False,\n",
    "    \"do_parallel\": False,\n",
    "    \"do_camp_chem\": False,\n",
    "    \"t_max\": 0 * si.s,\n",
    "    \"del_t\": 1 * si.s,\n",
    "    \"t_output\": 0,\n",
    "    \"t_progress\": 0,\n",
    "    \"allow_halving\": False,\n",
    "    \"allow_doubling\": False\n",
    "})"
   ]
  },
  {
   "cell_type": "code",
   "execution_count": 14,
   "id": "b933c6a4",
   "metadata": {},
   "outputs": [],
   "source": [
    "# ppmc.condense_equilib_particles(env_state, aero_data, aero_state)"
   ]
  },
  {
   "cell_type": "code",
   "execution_count": 15,
   "id": "0f06ddd3",
   "metadata": {},
   "outputs": [],
   "source": [
    "# ppmc.run_part(\n",
    "#     scenario, env_state, aero_data, aero_state,\n",
    "#     gas_data, gas_state, run_part_opt\n",
    "# )"
   ]
  },
  {
   "cell_type": "code",
   "execution_count": null,
   "id": "729c06aa",
   "metadata": {},
   "outputs": [],
   "source": []
  },
  {
   "cell_type": "code",
   "execution_count": null,
   "id": "0417ce9c",
   "metadata": {},
   "outputs": [],
   "source": []
  }
 ],
 "metadata": {
  "kernelspec": {
   "display_name": "Python 3 (ipykernel)",
   "language": "python",
   "name": "python3"
  },
  "language_info": {
   "codemirror_mode": {
    "name": "ipython",
    "version": 3
   },
   "file_extension": ".py",
   "mimetype": "text/x-python",
   "name": "python",
   "nbconvert_exporter": "python",
   "pygments_lexer": "ipython3",
   "version": "3.10.5"
  }
 },
 "nbformat": 4,
 "nbformat_minor": 5
}
