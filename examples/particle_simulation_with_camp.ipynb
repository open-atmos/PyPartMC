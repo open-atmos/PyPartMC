{
 "cells": [
  {
   "cell_type": "markdown",
   "id": "7968866b-24b8-4ed6-bc13-6035310cb4f5",
   "metadata": {},
   "source": [
    "[![View notebook](https://img.shields.io/static/v1?label=render%20on&logo=github&color=87ce3e&message=GitHub)](https://github.com/open-atmos/PyPartMC/blob/main/examples/particle_simulation_with_camp.ipynb)   \n",
    "[![Open In Colab](https://colab.research.google.com/assets/colab-badge.svg)](https://colab.research.google.com/github/open-atmos/PyPartMC/blob/main/examples/particle_simulation_with_camp.ipynb)    \n",
    "[![Binder](https://mybinder.org/badge_logo.svg)](https://mybinder.org/v2/gh/open-atmos/PyPartMC.git/main?urlpath=lab/tree/examples/particle_simulation_with_camp.ipynb)    \n",
    "[![ARM JupyterHub](https://img.shields.io/static/v1?label=launch%20in&logo=jupyter&color=lightblue&message=ARM+JupyterHub)](https://jupyterhub.arm.gov/hub/user-redirect/git-pull?repo=https%3A//github.com/open-atmos/PyPartMC&branch=main&urlPath=) (requires [logging in with ARM account](https://www.arm.gov/capabilities/computing-resources) and directing Jupyter to a notebook within the cloned repo)"
   ]
  },
  {
   "cell_type": "code",
   "execution_count": 1,
   "id": "159edeb4",
   "metadata": {},
   "outputs": [],
   "source": [
    "# This file is a part of PyPartMC licensed under the GNU General Public License v3\n",
    "# Copyright (C) 2024 University of Illinois Urbana-Champaign\n",
    "# Authors:\n",
    "#  - https://github.com/compdyn/partmc/graphs/contributors\n",
    "#  - https://github.com/open-atmos/PyPartMC/graphs/contributors"
   ]
  },
  {
   "cell_type": "code",
   "execution_count": 2,
   "id": "4f8359c2",
   "metadata": {},
   "outputs": [],
   "source": [
    "import sys\n",
    "import os\n",
    "if 'google.colab' in sys.modules:\n",
    "    !pip --quiet install open-atmos-jupyter-utils\n",
    "    from open_atmos_jupyter_utils import pip_install_on_colab\n",
    "    pip_install_on_colab('PyPartMC')\n",
    "elif 'JUPYTER_IMAGE' in os.environ and '.arm.gov' in os.environ['JUPYTER_IMAGE']:\n",
    "    !pip --quiet install PyPartMC open_atmos_jupyter_utils\n",
    "    _pypartmc_path = !pip show PyPartMC | fgrep Location | cut -f2 -d' '\n",
    "    sys.path.extend(_pypartmc_path if _pypartmc_path[0] not in sys.path else [])"
   ]
  },
  {
   "cell_type": "code",
   "execution_count": 3,
   "id": "b494ea6e",
   "metadata": {},
   "outputs": [],
   "source": [
    "import json\n",
    "import urllib\n",
    "from collections import defaultdict\n",
    "import numpy as np\n",
    "import matplotlib.pyplot as plt\n",
    "from open_atmos_jupyter_utils import show_plot\n",
    "import PyPartMC as ppmc\n",
    "from PyPartMC import si"
   ]
  },
  {
   "cell_type": "code",
   "execution_count": 4,
   "id": "0ec2454c-337d-4dc4-8ceb-5692948a9ef0",
   "metadata": {},
   "outputs": [],
   "source": [
    "N_PART = 100"
   ]
  },
  {
   "cell_type": "code",
   "execution_count": 5,
   "id": "6ff265d8-b7f8-4f54-bfa0-d14ce0f4535c",
   "metadata": {},
   "outputs": [],
   "source": [
    "PATHS = [\n",
    "    'cb05_abs_tol.json',\n",
    "    'cb05_species.json',\n",
    "    'custom_species.json',\n",
    "    'aerosol_phases.json',\n",
    "    'partitioning_species_params.json',\n",
    "    'cb05_mechanism_without_R142_R143.json',\n",
    "    'tsigaridis_2_product_SOA_scheme-mechanism.json',\n",
    "    'tsigaridis_2_product_SOA_scheme-species.json',\n",
    "]"
   ]
  },
  {
   "cell_type": "code",
   "execution_count": 6,
   "id": "cc3bdd53-5da9-45f4-9a45-b6f1cc457fb5",
   "metadata": {},
   "outputs": [
    {
     "name": "stdout",
     "output_type": "stream",
     "text": [
      "cb05_abs_tol.json\n",
      "cb05_species.json\n",
      "custom_species.json\n",
      "aerosol_phases.json\n",
      "partitioning_species_params.json\n",
      "cb05_mechanism_without_R142_R143.json\n",
      "tsigaridis_2_product_SOA_scheme-mechanism.json\n",
      "tsigaridis_2_product_SOA_scheme-species.json\n"
     ]
    }
   ],
   "source": [
    "CAMP_URL = (\n",
    "    'https://raw.githubusercontent.com'\n",
    "    '/tangwhiap/partmc/refs/heads/imf/scenarios/6_camp/monarch_mod37/'\n",
    ")\n",
    "for path in PATHS:\n",
    "    print(path)\n",
    "    with open(path, 'w', encoding='utf-8') as fout:\n",
    "        with urllib.request.urlopen(CAMP_URL + path.replace('-', '/')) as fin:\n",
    "            json.dump(\n",
    "                json.loads(fin.read().decode('utf-8').replace('TO' + 'DO', 'TO-DO')),\n",
    "                fout,\n",
    "                indent=4\n",
    "            )"
   ]
  },
  {
   "cell_type": "code",
   "execution_count": 7,
   "id": "16377896",
   "metadata": {},
   "outputs": [],
   "source": [
    "with open('config.json', 'w', encoding='utf-8') as f:\n",
    "    json.dump({\n",
    "        \"camp-files\" : [\n",
    "            \"aerosol_representation.json\",\n",
    "            *PATHS\n",
    "        ]\n",
    "    }, f, indent=4)"
   ]
  },
  {
   "cell_type": "code",
   "execution_count": 8,
   "id": "5e4e5c4b",
   "metadata": {},
   "outputs": [],
   "source": [
    "with open('aerosol_representation.json', 'w', encoding='utf-8') as f:\n",
    "    json.dump(\n",
    "        {\n",
    "            \"camp-data\" : [\n",
    "            {\n",
    "              \"name\" : \"PartMC single particle\",\n",
    "              \"type\" : \"AERO_REP_SINGLE_PARTICLE\",\n",
    "              \"maximum computational particles\" : N_PART * 2\n",
    "            }\n",
    "          ]\n",
    "        }, f, indent=4\n",
    "    )"
   ]
  },
  {
   "cell_type": "code",
   "execution_count": 9,
   "id": "c205c307-9d78-4cc9-840e-df1b87f5798f",
   "metadata": {},
   "outputs": [],
   "source": [
    "T_INITIAL = 0.0\n",
    "RUN_PART_ARGS = {}\n",
    "RUN_PART_ARGS['env_state'] = ppmc.EnvState({\n",
    "    \"rel_humidity\": 0.,\n",
    "    \"latitude\": 0,\n",
    "    \"longitude\": 0,\n",
    "    \"altitude\": 0 * si.m,\n",
    "    \"start_time\": 21600 * si.s,\n",
    "    \"start_day\": 200,\n",
    "})"
   ]
  },
  {
   "cell_type": "code",
   "execution_count": 10,
   "id": "de15cde5",
   "metadata": {},
   "outputs": [],
   "source": [
    "RUN_PART_ARGS['camp_core'] = ppmc.CampCore(\"config.json\")\n",
    "RUN_PART_ARGS['photolysis'] = ppmc.Photolysis(RUN_PART_ARGS['camp_core'])"
   ]
  },
  {
   "cell_type": "code",
   "execution_count": 11,
   "id": "6de20b3f",
   "metadata": {},
   "outputs": [
    {
     "name": "stderr",
     "output_type": "stream",
     "text": [
      "ERROR (PartMC-944207345): Missing abifm_m for aerosol species dust.LHD_DUST\n"
     ]
    },
    {
     "ename": "RuntimeError",
     "evalue": "532965028",
     "output_type": "error",
     "traceback": [
      "\u001b[0;31m---------------------------------------------------------------------------\u001b[0m",
      "\u001b[0;31mRuntimeError\u001b[0m                              Traceback (most recent call last)",
      "Cell \u001b[0;32mIn[11], line 2\u001b[0m\n\u001b[1;32m      1\u001b[0m RUN_PART_ARGS[\u001b[38;5;124m'\u001b[39m\u001b[38;5;124mgas_data\u001b[39m\u001b[38;5;124m'\u001b[39m] \u001b[38;5;241m=\u001b[39m ppmc\u001b[38;5;241m.\u001b[39mGasData(RUN_PART_ARGS[\u001b[38;5;124m'\u001b[39m\u001b[38;5;124mcamp_core\u001b[39m\u001b[38;5;124m'\u001b[39m])\n\u001b[0;32m----> 2\u001b[0m RUN_PART_ARGS[\u001b[38;5;124m'\u001b[39m\u001b[38;5;124maero_data\u001b[39m\u001b[38;5;124m'\u001b[39m] \u001b[38;5;241m=\u001b[39m \u001b[43mppmc\u001b[49m\u001b[38;5;241;43m.\u001b[39;49m\u001b[43mAeroData\u001b[49m\u001b[43m(\u001b[49m\u001b[43mRUN_PART_ARGS\u001b[49m\u001b[43m[\u001b[49m\u001b[38;5;124;43m'\u001b[39;49m\u001b[38;5;124;43mcamp_core\u001b[39;49m\u001b[38;5;124;43m'\u001b[39;49m\u001b[43m]\u001b[49m\u001b[43m)\u001b[49m\n",
      "\u001b[0;31mRuntimeError\u001b[0m: 532965028"
     ]
    }
   ],
   "source": [
    "RUN_PART_ARGS['gas_data'] = ppmc.GasData(RUN_PART_ARGS['camp_core'])\n",
    "RUN_PART_ARGS['aero_data'] = ppmc.AeroData(RUN_PART_ARGS['camp_core'])"
   ]
  },
  {
   "cell_type": "code",
   "execution_count": null,
   "id": "c822823d",
   "metadata": {},
   "outputs": [],
   "source": [
    "RUN_PART_ARGS['gas_state'] = ppmc.GasState(RUN_PART_ARGS['gas_data'])\n",
    "RUN_PART_ARGS['gas_state'].mix_rats = (\n",
    "    {\"NO\": [0.1]},\n",
    "    {\"NO2\": [1.]},\n",
    "    {\"O3\": [5.0e1]},\n",
    "    {\"H2O2\": [1.1]},\n",
    "    {\"CO\": [2.1e2]},\n",
    "    {\"SO2\": [0.8]},\n",
    "    {\"NH3\": [0.5]},\n",
    "    {\"HCL\": [0.7]},\n",
    "    {\"CH4\": [2.2e3]},\n",
    "    {\"ETHA\": [1.]},\n",
    "    {\"FORM\": [1.2]},\n",
    "    {\"MEOH\": [1.2e-1]},\n",
    "    {\"MEPX\": [0.5]},\n",
    "    {\"ALD2\": [1.]},\n",
    "    {\"PAR\": [2.]},\n",
    "    {\"ETH\": [0.2]},\n",
    "    {\"OLE\": [2.3e-2]},\n",
    "    {\"IOLE\": [3.1e-4]},\n",
    "    {\"TOL\": [0.1]},\n",
    "    {\"XYL\": [0.1]},\n",
    "    {\"NTR\": [0.1]},\n",
    "    {\"PAN\": [0.8]},\n",
    "    {\"AACD\": [0.2]},\n",
    "    {\"ROOH\": [2.5e-2]},\n",
    "    {\"ISOP\": [5.]},\n",
    "    {\"O2\": [2.095e8]},\n",
    "    {\"N2\": [7.8e8]},\n",
    "    {\"H2\": [5.6e2]},\n",
    "    {\"M\": [1e9]}\n",
    ")"
   ]
  },
  {
   "cell_type": "code",
   "execution_count": null,
   "id": "920e41e3",
   "metadata": {},
   "outputs": [],
   "source": [
    "TIME_TIMESERIES = [0, 86400]\n",
    "RUN_PART_ARGS['scenario'] = ppmc.Scenario(\n",
    "    RUN_PART_ARGS['gas_data'],\n",
    "    RUN_PART_ARGS['aero_data'],\n",
    "    {\n",
    "        \"temp_profile\": [{\"time\": TIME_TIMESERIES}, {\"temp\": [290.016, 290.016]}],\n",
    "        \"pressure_profile\": [\n",
    "            {\"time\": TIME_TIMESERIES},\n",
    "            {\"pressure\": [1e5, 1e5]},\n",
    "        ],\n",
    "        \"height_profile\": [{\"time\": TIME_TIMESERIES}, {\"height\": [1., 1.]}],\n",
    "        \"gas_emissions\": [\n",
    "            {\"time\": [0, 43200]},\n",
    "            {\"rate\": [1., 0.]},\n",
    "            {\"SO2\": [1.06E-9, 1.06E-9]},\n",
    "            {\"NO2\": [7.56E-12, 7.56E-12]},\n",
    "            {\"NO\": [1.44E-10, 1.44E-10]},\n",
    "            {\"CO\": [1.96E-9, 1.96E-9]},\n",
    "            {\"ALD2\": [4.25E-12, 4.25E-12]},\n",
    "            {\"FORM\": [1.02E-11, 1.02E-11]},\n",
    "            {\"ETH\": [4.62E-11, 4.62E-11]},\n",
    "            {\"IOLE\": [1.49E-11, 1.49E-11]},\n",
    "            {\"OLE\": [1.49E-11, 1.49E-11]},\n",
    "            {\"TOL\": [1.53E-11, 1.53E-11]},\n",
    "            {\"XYL\": [1.40E-11, 1.40E-11]},\n",
    "            {\"PAR\": [4.27E-10, 4.27E-10]},\n",
    "            {\"ISOP\": [6.03E-12, 6.03E-12]},\n",
    "            {\"MEOH\": [5.92E-13, 5.92E-13]},\n",
    "        ],\n",
    "        \"gas_background\": [\n",
    "            {\"time\": [0 * si.s]},\n",
    "            {\"rate\": [0 / si.s]},\n",
    "            {\"NO\": [0.1]},\n",
    "            {\"NO2\": [1.]},\n",
    "            {\"O3\": [5.0E+01]},\n",
    "            {\"H2O2\": [1.1]},\n",
    "            {\"CO\": [2.1E+02]},\n",
    "            {\"SO2\": [0.8]},\n",
    "            {\"NH3\": [0.5]},\n",
    "            {\"HCL\": [0.7]},\n",
    "            {\"CH4\": [2.2E+03]},\n",
    "            {\"ETHA\": [1.]},\n",
    "            {\"FORM\": [1.2]},\n",
    "            {\"MEOH\": [1.2E-1]},\n",
    "            {\"MEPX\": [0.5]},\n",
    "            {\"ALD2\": [1.]},\n",
    "            {\"PAR\": [2.]},\n",
    "            {\"ETH\": [0.2]},\n",
    "            {\"OLE\": [2.3E-2]},\n",
    "            {\"IOLE\": [3.1E-4]},\n",
    "            {\"TOL\": [0.1]},\n",
    "            {\"XYL\": [0.1]},\n",
    "            {\"NTR\": [0.1]},\n",
    "            {\"PAN\": [0.8]},\n",
    "            {\"AACD\": [0.2]},\n",
    "            {\"ROOH\": [2.5E-2]},\n",
    "            {\"ISOP\": [5.]},\n",
    "            {\"O2\": [2.095E+08]},\n",
    "            {\"N2\": [7.8E+08]},\n",
    "            {\"H2\": [5.6E+02]},\n",
    "            {\"M\": [1.0E+09]}\n",
    "        ],\n",
    "        \"aero_emissions\": [\n",
    "            {\"time\": [0 * si.s]},\n",
    "            {\"rate\": [0 / si.s]},\n",
    "            {\"dist\": [[{\n",
    "                \"gasoline\": {\n",
    "                    \"mass_frac\": [{\"organic_matter.POA\": [1]}],\n",
    "                    \"diam_type\": \"geometric\",\n",
    "                    \"mode_type\": \"log_normal\",\n",
    "                    \"num_conc\": 0.0 / si.m**3,\n",
    "                    \"geom_mean_diam\": 5e-8 * si.m,\n",
    "                    \"log10_geom_std_dev\": 0.24,\n",
    "                },\n",
    "            }]]},\n",
    "        ],\n",
    "        \"aero_background\": [\n",
    "            {\"time\": [0 * si.s]},\n",
    "            {\"rate\": [0 / si.s]},\n",
    "            {\"dist\": [[{\n",
    "                \"back_small\": {\n",
    "                    \"mass_frac\": [{\"organic_matter.POA\": [1]}],\n",
    "                    \"diam_type\": \"geometric\",\n",
    "                    \"mode_type\": \"log_normal\",\n",
    "                    \"num_conc\": 0 / si.m**3,\n",
    "                    \"geom_mean_diam\": 0.02 * si.um,\n",
    "                    \"log10_geom_std_dev\": 0.161,\n",
    "                },\n",
    "            }]]},\n",
    "        ],\n",
    "        \"loss_function\": \"none\",\n",
    "    },\n",
    ")"
   ]
  },
  {
   "cell_type": "code",
   "execution_count": null,
   "id": "6722ba83",
   "metadata": {},
   "outputs": [],
   "source": [
    "RUN_PART_ARGS['scenario'].init_env_state(RUN_PART_ARGS['env_state'], T_INITIAL)"
   ]
  },
  {
   "cell_type": "code",
   "execution_count": null,
   "id": "96ba54c5-dc33-4e22-b774-390cec4be69f",
   "metadata": {},
   "outputs": [],
   "source": [
    "AERO_DIST_INIT = ppmc.AeroDist(RUN_PART_ARGS['aero_data'], [\n",
    "        {\n",
    "            \"init_small\": {\n",
    "                \"mass_frac\": [{\"organic_matter.POA\": [1]}],\n",
    "                \"diam_type\": \"geometric\",\n",
    "                \"mode_type\": \"log_normal\",\n",
    "                \"num_conc\": 3.2e9 / si.m**3,\n",
    "                \"geom_mean_diam\": 2.0e-8 * si.m,\n",
    "                \"log10_geom_std_dev\": 0.161,\n",
    "            },\n",
    "            \"init_large\": {\n",
    "                \"mass_frac\": [{\"organic_matter.POA\": [1]}],\n",
    "                \"diam_type\": \"geometric\",\n",
    "                \"mode_type\": \"log_normal\",\n",
    "                \"num_conc\": 2.9e9 / si.m**3,\n",
    "                \"geom_mean_diam\": 1.16e-7 * si.m,\n",
    "                \"log10_geom_std_dev\": 0.217,\n",
    "            },\n",
    "            \"init_coarse\": {\n",
    "                \"mass_frac\": [{\"organic_matter.POA\": [1]}],\n",
    "                \"diam_type\": \"geometric\",\n",
    "                \"mode_type\": \"log_normal\",\n",
    "                \"num_conc\": 0.3e6 / si.m**3,\n",
    "                \"geom_mean_diam\": 1.8e-6 * si.m,\n",
    "                \"log10_geom_std_dev\": 0.38021124171160603,\n",
    "            }\n",
    "        }\n",
    "    ]\n",
    ")"
   ]
  },
  {
   "cell_type": "code",
   "execution_count": null,
   "id": "d8d9c8fd",
   "metadata": {},
   "outputs": [],
   "source": [
    "RUN_PART_ARGS['run_part_opt'] = ppmc.RunPartOpt({\n",
    "    \"output_prefix\": \"urban_plume\",\n",
    "    \"do_coagulation\": False,\n",
    "    \"t_max\": 86400 * si.s,\n",
    "    \"del_t\": 6 * si.s,\n",
    "    \"do_camp_chem\": True,\n",
    "    \"do_immersion_freezing\": False,\n",
    "})\n",
    "\n",
    "RUN_PART_ARGS['aero_state'] = ppmc.AeroState(\n",
    "    RUN_PART_ARGS['aero_data'],\n",
    "    N_PART,\n",
    "    'nummass_source',\n",
    "    RUN_PART_ARGS['camp_core']\n",
    ")\n",
    "\n",
    "RUN_PART_ARGS['aero_state'].dist_sample(\n",
    "    AERO_DIST_INIT,\n",
    "    sample_prop=1.0,\n",
    "    create_time=0.0,\n",
    "    allow_doubling=True,\n",
    "    allow_halving=True,\n",
    ")"
   ]
  },
  {
   "cell_type": "code",
   "execution_count": null,
   "id": "5f3665a5-be3c-49e4-b1d0-47f3e2b82c30",
   "metadata": {},
   "outputs": [],
   "source": [
    "DIAM_GRID = ppmc.BinGrid(30, \"log\", 1e-9, 1e-5)"
   ]
  },
  {
   "cell_type": "code",
   "execution_count": null,
   "id": "0f7c29fe",
   "metadata": {},
   "outputs": [],
   "source": [
    "OUTPUT = defaultdict(list)\n",
    "last = defaultdict(float)\n",
    "i_output = 1\n",
    "for i_time in range(\n",
    "    0,\n",
    "    int(RUN_PART_ARGS['run_part_opt'].t_max / RUN_PART_ARGS['run_part_opt'].del_t) + 1\n",
    "):\n",
    "    if i_time != 0:\n",
    "        (last[\"output_time\"], last[\"progress_time\"], i_output) = ppmc.run_part_timestep(\n",
    "            *[RUN_PART_ARGS[key] for key in (\n",
    "                'scenario', 'env_state', 'aero_data',\n",
    "                'aero_state', 'gas_data', 'gas_state',\n",
    "                'run_part_opt', 'camp_core', 'photolysis'\n",
    "            )],\n",
    "            i_time, T_INITIAL, last[\"output_time\"], last[\"progress_time\"], i_output,\n",
    "        )\n",
    "    for obj, keys in (\n",
    "        (RUN_PART_ARGS['aero_state'], ('total_num_conc', 'total_mass_conc')),\n",
    "        (RUN_PART_ARGS['gas_state'], ('mix_rats',)),\n",
    "        (RUN_PART_ARGS['env_state'], ('elapsed_time', 'height', 'temp', 'rh')),\n",
    "    ):\n",
    "        for key in keys:\n",
    "            OUTPUT[key].append(getattr(obj, key))\n",
    "    if np.mod(i_time * RUN_PART_ARGS['run_part_opt'].del_t, 3600.0) == 0:\n",
    "        OUTPUT['dists'].append(ppmc.histogram_1d(\n",
    "            DIAM_GRID,\n",
    "            RUN_PART_ARGS['aero_state'].dry_diameters,\n",
    "            RUN_PART_ARGS['aero_state'].num_concs\n",
    "        ))\n",
    "for key in OUTPUT:\n",
    "    OUTPUT[key] = np.asarray(OUTPUT[key])"
   ]
  },
  {
   "cell_type": "code",
   "execution_count": null,
   "id": "82c0cebb",
   "metadata": {},
   "outputs": [],
   "source": [
    "plt.rcParams.update({'font.size': 9})\n",
    "plt.rcParams.update({'figure.figsize': (3.08, 2.5)})\n",
    "plt.rcParams.update({\"axes.grid\" : True})"
   ]
  },
  {
   "cell_type": "code",
   "execution_count": null,
   "id": "47474cd3",
   "metadata": {},
   "outputs": [],
   "source": [
    "plt.plot(OUTPUT['elapsed_time'], OUTPUT['temp'], 'r')\n",
    "plt.ylabel('Temperature (K)', color='r')\n",
    "plt.ylim([275, 300])\n",
    "plt.xticks(np.linspace(0, OUTPUT['elapsed_time'][-1], 5))\n",
    "plt.xlim([OUTPUT['elapsed_time'][i] for i in (0, -1)])\n",
    "plt.xlabel('Time (s)')\n",
    "plt.twinx()\n",
    "plt.plot(OUTPUT['elapsed_time'], OUTPUT['rh'] * 100, 'g')\n",
    "plt.ylabel('Relative humidity (%)', color='g')\n",
    "plt.ylim([0, 100])\n",
    "show_plot()"
   ]
  },
  {
   "cell_type": "code",
   "execution_count": null,
   "id": "c85a622a",
   "metadata": {},
   "outputs": [],
   "source": [
    "def set_tickmarks(axes, n_yticks):\n",
    "    ylims = axes.get_ylim()\n",
    "    if np.log10(ylims[0]) > 1:\n",
    "        val = -int(np.ceil(np.abs(np.log10(ylims[0])))) + 1\n",
    "    else:\n",
    "        val = int(np.ceil(np.abs(np.log10(ylims[0])))) + 1     \n",
    "    ymin = round(ylims[0] - .1 * ylims[0], val)\n",
    "    ymax = round(ylims[1] + .1 * ylims[1], val)\n",
    "    plt.ylim([ymin, ymax])\n",
    "    plt.yticks(np.linspace(ymin, ymax, n_yticks))"
   ]
  },
  {
   "cell_type": "code",
   "execution_count": null,
   "id": "8e1b89e0",
   "metadata": {},
   "outputs": [],
   "source": [
    "plt.plot(OUTPUT['elapsed_time'], OUTPUT['total_mass_conc'], \"b\", label=\"mass conc\")\n",
    "plt.ylabel(\"Mass concentration (kg m$^{-3}$)\", color='b')\n",
    "plt.xlabel(\"Time (s)\")\n",
    "n_ticks = 5\n",
    "set_tickmarks(plt.gca(), n_ticks)\n",
    "plt.twinx()\n",
    "plt.plot(OUTPUT['elapsed_time'], OUTPUT['total_num_conc'], \"g\", label=\"num conc\")\n",
    "plt.xticks(np.linspace(0, OUTPUT['elapsed_time'][-1], n_ticks))\n",
    "plt.xlim([OUTPUT['elapsed_time'][i] for i in (0, -1)])\n",
    "set_tickmarks(plt.gca(), n_ticks)\n",
    "plt.ylabel(r\"Number concentration ($\\#$ m$^{-3}$)\", color='g')\n",
    "show_plot()"
   ]
  },
  {
   "cell_type": "code",
   "execution_count": null,
   "id": "386aa7c2",
   "metadata": {},
   "outputs": [],
   "source": [
    "for i_spec, spec in enumerate([\"O3\"]):\n",
    "    i_spec = RUN_PART_ARGS['gas_data'].spec_by_name(spec)\n",
    "    l, = plt.plot(\n",
    "        OUTPUT['elapsed_time'],\n",
    "        OUTPUT['mix_rats'][:, i_spec],\n",
    "        label=spec\n",
    "    )\n",
    "plt.xlabel(\"Time (s)\")\n",
    "plt.ylabel(\"Mixing ratio (ppb)\")\n",
    "plt.xticks(np.linspace(0, OUTPUT['elapsed_time'][-1], 5))\n",
    "plt.legend()\n",
    "show_plot()"
   ]
  },
  {
   "cell_type": "code",
   "execution_count": null,
   "id": "faa1de28",
   "metadata": {},
   "outputs": [],
   "source": [
    "for hour in (0, 6, 12, 24):\n",
    "    plt.plot(DIAM_GRID.centers, OUTPUT['dists'][hour], label=f'$t = {hour}$ h')\n",
    "plt.xscale(\"log\")\n",
    "plt.xlabel(\"Dry diameter (m)\")\n",
    "plt.ylabel(r\"Number concentration $n(D)$ ($\\#$ m$^{-3}$)\")\n",
    "plt.ylim(bottom=0)\n",
    "plt.legend()\n",
    "plt.xlim([DIAM_GRID.edges[i] for i in (0, -1)])\n",
    "show_plot()"
   ]
  },
  {
   "cell_type": "code",
   "execution_count": null,
   "id": "3ddc93ff-798a-48e6-b60e-3c50dfe5f906",
   "metadata": {},
   "outputs": [],
   "source": []
  },
  {
   "cell_type": "code",
   "execution_count": null,
   "id": "d493af8a-b2ab-48a3-b9c2-b480055194b1",
   "metadata": {},
   "outputs": [],
   "source": []
  }
 ],
 "metadata": {
  "kernelspec": {
   "display_name": "Python 3 (ipykernel)",
   "language": "python",
   "name": "python3"
  },
  "language_info": {
   "codemirror_mode": {
    "name": "ipython",
    "version": 3
   },
   "file_extension": ".py",
   "mimetype": "text/x-python",
   "name": "python",
   "nbconvert_exporter": "python",
   "pygments_lexer": "ipython3",
   "version": "3.9.2"
  }
 },
 "nbformat": 4,
 "nbformat_minor": 5
}
