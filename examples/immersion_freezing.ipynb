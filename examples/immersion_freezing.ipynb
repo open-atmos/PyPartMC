{
 "cells": [
  {
   "cell_type": "markdown",
   "id": "6f3ab7ce",
   "metadata": {},
   "source": [
    "[![View notebook](https://img.shields.io/static/v1?label=render%20on&logo=github&color=87ce3e&message=GitHub)](https://github.com/open-atmos/PyPartMC/blob/main/examples/cloud_parcel.ipynb)   \n",
    "[![Open In Colab](https://colab.research.google.com/assets/colab-badge.svg)](https://colab.research.google.com/github/open-atmos/PyPartMC/blob/main/examples/cloud_parcel.ipynb)    \n",
    "[![Binder](https://mybinder.org/badge_logo.svg)](https://mybinder.org/v2/gh/open-atmos/PyPartMC.git/main?urlpath=lab/tree/examples/cloud_parcel.ipynb)    \n",
    "[![ARM JupyterHub](https://img.shields.io/static/v1?label=launch%20in&logo=jupyter&color=lightblue&message=ARM+JupyterHub)](https://jupyterhub.arm.gov/hub/user-redirect/git-pull?repo=https%3A//github.com/open-atmos/PyPartMC&branch=main&urlPath=) (requires [logging in with ARM account](https://www.arm.gov/capabilities/computing-resources) and directing Jupyter to a notebook within the cloned repo)"
   ]
  },
  {
   "cell_type": "code",
   "execution_count": null,
   "id": "159edeb4",
   "metadata": {},
   "outputs": [],
   "source": [
    "# This file is a part of PyPartMC licensed under the GNU General Public License v3\n",
    "# Copyright (C) 2025 University of Illinois Urbana-Champaign\n",
    "# Authors:\n",
    "#  - https://github.com/compdyn/partmc/graphs/contributors\n",
    "#  - https://github.com/open-atmos/PyPartMC/graphs/contributors"
   ]
  },
  {
   "cell_type": "code",
   "execution_count": null,
   "id": "4f8359c2",
   "metadata": {},
   "outputs": [],
   "source": [
    "import sys\n",
    "import os\n",
    "if 'google.colab' in sys.modules:\n",
    "    !pip --quiet install open-atmos-jupyter-utils\n",
    "    from open_atmos_jupyter_utils import pip_install_on_colab\n",
    "    pip_install_on_colab('PyPartMC')\n",
    "elif 'JUPYTER_IMAGE' in os.environ and '.arm.gov' in os.environ['JUPYTER_IMAGE']:\n",
    "    !pip --quiet install PyPartMC open_atmos_jupyter_utils\n",
    "    _pypartmc_path = !pip show PyPartMC | fgrep Location | cut -f2 -d' '\n",
    "    sys.path.extend(_pypartmc_path if _pypartmc_path[0] not in sys.path else [])"
   ]
  },
  {
   "cell_type": "code",
   "execution_count": null,
   "id": "b494ea6e",
   "metadata": {},
   "outputs": [],
   "source": [
    "import numpy as np\n",
    "import matplotlib.pyplot as plt\n",
    "from open_atmos_jupyter_utils import show_plot\n",
    "import PyPartMC as ppmc\n",
    "from PyPartMC import si"
   ]
  },
  {
   "cell_type": "code",
   "execution_count": null,
   "id": "ef17d66c-c058-4512-8da8-c0bc56856cb5",
   "metadata": {},
   "outputs": [],
   "source": [
    "gas_data = ppmc.GasData((\"SO2\",))"
   ]
  },
  {
   "cell_type": "code",
   "execution_count": null,
   "id": "7e95a35f-0394-4d9b-8f89-78d617b693fc",
   "metadata": {},
   "outputs": [],
   "source": [
    "aero_data = ppmc.AeroData(\n",
    "    (\n",
    "        #         density  ions in soln (1) molecular weight    kappa (1)\n",
    "        #         |                     |   |                   |\n",
    "        {\"H2O\": [1000 * si.kg / si.m**3, 0, 18.0 * si.g / si.mol, 0.00, 0, 0]},\n",
    "        {\"ILT\": [2700 * si.kg / si.m**3, 0, 389.34 * si.g / si.mol, 0.003, 54.48075, -10.66873]},\n",
    "    )\n",
    ")"
   ]
  },
  {
   "cell_type": "code",
   "execution_count": null,
   "id": "3e59844b-27d8-4515-ac1f-aad0ac8d680d",
   "metadata": {},
   "outputs": [],
   "source": [
    "gas_state = ppmc.GasState(gas_data)\n",
    "\n",
    "gas_state.mix_rats = (\n",
    "    {\"SO2\": [0.0E+00]},\n",
    ")"
   ]
  },
  {
   "cell_type": "code",
   "execution_count": null,
   "id": "f8472278-09a1-4d3f-bf4e-6bf0dbe0f372",
   "metadata": {},
   "outputs": [],
   "source": [
    "AERO_DIST_INIT = [\n",
    "    {\n",
    "        \"init_small\": {\n",
    "            \"mass_frac\": [{\"H2O\": [0.76595745]}, {\"ILT\": [0.23404255]}],\n",
    "            \"diam_type\": \"geometric\",\n",
    "            \"mode_type\": \"log_normal\",\n",
    "            \"num_conc\": 1.0e8 / si.m**3,\n",
    "            \"geom_mean_diam\": 2.154434690031885 * si.um,\n",
    "            \"log10_geom_std_dev\": 0.5,\n",
    "        },\n",
    "    }\n",
    "]\n",
    "\n",
    "aero_dist_init = ppmc.AeroDist(aero_data, AERO_DIST_INIT)"
   ]
  },
  {
   "cell_type": "code",
   "execution_count": null,
   "id": "3a5b08dd-1e0c-4643-96a4-6560a9451695",
   "metadata": {},
   "outputs": [],
   "source": [
    "AERO_DIST_EMIT = {\n",
    "    \"gasoline\": {\n",
    "        \"mass_frac\": [{\"H2O\": [1.0]}],\n",
    "        \"diam_type\": \"geometric\",\n",
    "        \"mode_type\": \"log_normal\",\n",
    "        \"num_conc\": 0 / si.m**3,\n",
    "        \"geom_mean_diam\": 5e-8 * si.m,\n",
    "        \"log10_geom_std_dev\": 0.24,\n",
    "    },\n",
    "}"
   ]
  },
  {
   "cell_type": "code",
   "execution_count": null,
   "id": "bea67874-8add-489d-8dc3-598f4fb077f2",
   "metadata": {},
   "outputs": [],
   "source": [
    "gas_emit_times = [0]\n",
    "gas_emit_rates = np.zeros(len(gas_emit_times))\n",
    "emit_gas = [\n",
    "    {\"time\": gas_emit_times},\n",
    "    {\"rate\": list(gas_emit_rates)},\n",
    "    {\"SO2\": [0]},\n",
    "]"
   ]
  },
  {
   "cell_type": "code",
   "execution_count": null,
   "id": "9930b529-2a10-4e8c-b855-5b3d891839b5",
   "metadata": {},
   "outputs": [],
   "source": [
    "env_state = ppmc.EnvState(\n",
    "    {\n",
    "        \"rel_humidity\": 1.00,\n",
    "        \"latitude\": 0,\n",
    "        \"longitude\": 0,\n",
    "        \"altitude\": 0 * si.m,\n",
    "        \"start_time\": 21600 * si.s,\n",
    "        \"start_day\": 200,\n",
    "    }\n",
    ")"
   ]
  },
  {
   "cell_type": "code",
   "execution_count": null,
   "id": "587e451b-df57-4509-80bc-f3e166f783a3",
   "metadata": {},
   "outputs": [],
   "source": [
    "time_timeseries = [0, 600]\n",
    "pressure_timeseries = [50000.0, 50000.0]\n",
    "temp_timeseries = [263.150, 243.150]\n",
    "height_timeseries = [1000, 1000]"
   ]
  },
  {
   "cell_type": "code",
   "execution_count": null,
   "id": "b3a06d49-542c-4846-809f-72c91beb11c2",
   "metadata": {},
   "outputs": [],
   "source": [
    "AERO_DIST_BACKGROUND = {\n",
    "    \"back_small\": {\n",
    "        \"mass_frac\": [{\"H2O\": [0.76595745]}, {\"ILT\": [0.23404255]}],\n",
    "        \"diam_type\": \"geometric\",\n",
    "        \"mode_type\": \"log_normal\",\n",
    "        \"num_conc\": 0 / si.m**3,\n",
    "        \"geom_mean_diam\": 0.02 * si.um,\n",
    "        \"log10_geom_std_dev\": 0.161,\n",
    "    },\n",
    "}"
   ]
  },
  {
   "cell_type": "code",
   "execution_count": null,
   "id": "80cd3469-2420-437a-b4b2-aa1163050952",
   "metadata": {},
   "outputs": [],
   "source": [
    "times = [0 * si.s]\n",
    "back_gas = [{\"time\": times},\n",
    "            {\"rate\": [0.0 / si.s]},\n",
    "            {\"SO2\": [0.0E+00]},\n",
    "           ]"
   ]
  },
  {
   "cell_type": "code",
   "execution_count": null,
   "id": "d33aebda-f6b5-4488-bf19-809213c23727",
   "metadata": {},
   "outputs": [],
   "source": [
    "scenario = ppmc.Scenario(\n",
    "    gas_data,\n",
    "    aero_data,\n",
    "    {\n",
    "        \"temp_profile\": [{\"time\": time_timeseries}, {\"temp\": temp_timeseries}],\n",
    "        \"pressure_profile\": [\n",
    "            {\"time\": time_timeseries},\n",
    "            {\"pressure\": pressure_timeseries},\n",
    "        ],\n",
    "        \"height_profile\": [{\"time\": time_timeseries}, {\"height\": height_timeseries}],\n",
    "        \"gas_emissions\": emit_gas,\n",
    "        \"gas_background\": back_gas,\n",
    "        \"aero_emissions\": [\n",
    "            {\"time\": [0 * si.s, 12 * 3600 * si.s]},\n",
    "            {\"rate\": [1 / si.s, 0 / si.s]},\n",
    "            {\"dist\": [[AERO_DIST_EMIT],[AERO_DIST_EMIT]]},\n",
    "        ],\n",
    "        \"aero_background\": [\n",
    "            {\"time\": [0 * si.s]},\n",
    "            {\"rate\": [1.5e-5 / si.s]},\n",
    "            {\"dist\": [[AERO_DIST_BACKGROUND]]},\n",
    "        ],\n",
    "        \"loss_function\": \"none\",\n",
    "    },\n",
    ")"
   ]
  },
  {
   "cell_type": "code",
   "execution_count": null,
   "id": "81c4e01b-9e40-4fb7-bd0c-b16be6910ff3",
   "metadata": {},
   "outputs": [],
   "source": [
    "T_INITIAL = 0.0\n",
    "scenario.init_env_state(env_state, T_INITIAL)"
   ]
  },
  {
   "cell_type": "code",
   "execution_count": null,
   "id": "dd7aeca1-efb3-4d61-9779-82d59695b65f",
   "metadata": {},
   "outputs": [],
   "source": [
    "run_part_opt = ppmc.RunPartOpt(\n",
    "    {\n",
    "        \"output_prefix\": \"urban_plume\",\n",
    "        \"do_coagulation\": False,\n",
    "        \"do_immersion_freezing\": True,\n",
    "        \"t_max\": 600 * si.s,\n",
    "        \"del_t\": 1 * si.s,\n",
    "    }\n",
    ")"
   ]
  },
  {
   "cell_type": "code",
   "execution_count": null,
   "id": "3f7ba08e-d2aa-496f-a863-0dea978fb9f4",
   "metadata": {},
   "outputs": [],
   "source": [
    "N_PART = 10000\n",
    "aero_state = ppmc.AeroState(aero_data, N_PART, 'nummass_source')\n",
    "aero_state.dist_sample(\n",
    "    aero_dist_init,\n",
    "    sample_prop=1.0,\n",
    "    create_time=0.0,\n",
    "    allow_doubling=True,\n",
    "    allow_halving=True,\n",
    ")"
   ]
  },
  {
   "cell_type": "code",
   "execution_count": null,
   "id": "d8c0d144-5def-428d-9c37-2d6f9c188a06",
   "metadata": {},
   "outputs": [],
   "source": [
    "camp_core = ppmc.CampCore()\n",
    "photolysis = ppmc.Photolysis()"
   ]
  },
  {
   "cell_type": "code",
   "execution_count": null,
   "id": "a76b6918-7dc5-44b5-9405-5e8d09e29bc7",
   "metadata": {},
   "outputs": [],
   "source": [
    "N_STEPS = int(run_part_opt.t_max / run_part_opt.del_t)\n",
    "num_conc = np.zeros(N_STEPS + 1)\n",
    "num_conc[0] = aero_state.total_num_conc\n",
    "height = np.zeros((N_STEPS + 1))\n",
    "temperature = np.zeros((N_STEPS + 1))\n",
    "rh = np.zeros((N_STEPS + 1))\n",
    "\n",
    "height[0] = env_state.height\n",
    "temperature[0] = env_state.temp\n",
    "rh[0] = env_state.rh\n",
    "\n",
    "last_output_time = 0.\n",
    "last_progress_time = 0.\n",
    "i_output = 1\n",
    "\n",
    "for i_time in range(1,N_STEPS + 1):\n",
    "    (last_output_time, last_progress_time, i_output) = ppmc.run_part_timestep(\n",
    "        scenario,\n",
    "        env_state,\n",
    "        aero_data,\n",
    "        aero_state,\n",
    "        gas_data,\n",
    "        gas_state,\n",
    "        run_part_opt,\n",
    "        camp_core,\n",
    "        photolysis,\n",
    "        i_time,\n",
    "        T_INITIAL,\n",
    "        last_output_time,\n",
    "        last_progress_time,\n",
    "        i_output\n",
    "    )\n",
    "    num_conc[i_time] = aero_state.total_num_conc\n",
    "    time[i_time] = env_state.elapsed_time\n",
    "    gas_mix_rat[i_time, :] = gas_state.mix_rats\n",
    "    height[i_time] = env_state.height\n",
    "    temperature[i_time] = env_state.temp"
   ]
  },
  {
   "cell_type": "code",
   "execution_count": null,
   "id": "a4786ef9-3a00-4706-acff-42dc6ec05683",
   "metadata": {},
   "outputs": [],
   "source": []
  }
 ],
 "metadata": {
  "kernelspec": {
   "display_name": "Python 3 (ipykernel)",
   "language": "python",
   "name": "python3"
  },
  "language_info": {
   "codemirror_mode": {
    "name": "ipython",
    "version": 3
   },
   "file_extension": ".py",
   "mimetype": "text/x-python",
   "name": "python",
   "nbconvert_exporter": "python",
   "pygments_lexer": "ipython3",
   "version": "3.13.2"
  }
 },
 "nbformat": 4,
 "nbformat_minor": 5
}
